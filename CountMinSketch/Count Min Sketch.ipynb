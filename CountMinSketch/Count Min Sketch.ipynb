{
 "cells": [
  {
   "cell_type": "markdown",
   "metadata": {},
   "source": [
    "# Count Min Sketch Implementation"
   ]
  },
  {
   "cell_type": "markdown",
   "metadata": {},
   "source": [
    "Description: <br>\n",
    "Count Min Sketch (12.2.2.2, Pg 403- 405 Aggarwal)"
   ]
  },
  {
   "cell_type": "markdown",
   "metadata": {},
   "source": [
    "## 1. Step by step definition"
   ]
  },
  {
   "cell_type": "code",
   "execution_count": 1,
   "metadata": {},
   "outputs": [],
   "source": [
    "# importing libraries\n",
    "# https://pypi.org/project/mmh3/\n",
    "import mmh3 # can be used to hash strings\n",
    "import random\n",
    "import math"
   ]
  },
  {
   "cell_type": "code",
   "execution_count": 2,
   "metadata": {},
   "outputs": [],
   "source": [
    "# parameters\n",
    "# w\n",
    "length = 7\n",
    "# d\n",
    "noHashFunctions = 5"
   ]
  },
  {
   "cell_type": "code",
   "execution_count": 3,
   "metadata": {},
   "outputs": [
    {
     "name": "stdout",
     "output_type": "stream",
     "text": [
      "[[0, 0, 0, 0, 0, 0, 0], [0, 0, 0, 0, 0, 0, 0], [0, 0, 0, 0, 0, 0, 0], [0, 0, 0, 0, 0, 0, 0], [0, 0, 0, 0, 0, 0, 0]]\n"
     ]
    }
   ],
   "source": [
    "#initialize the |noHashFunctions| arrays with 0\n",
    "arrays = []\n",
    "\n",
    "for i in range(0,noHashFunctions):\n",
    "    array = [0] * length\n",
    "    arrays.append(array)\n",
    "    \n",
    "print(arrays)"
   ]
  },
  {
   "cell_type": "code",
   "execution_count": 4,
   "metadata": {},
   "outputs": [],
   "source": [
    "#we need to define pairwise independent hash functions that map an item from 0 to length - 1\n",
    "def hashItem(item,seed):\n",
    "    #returns a 32-bit unsigned int \n",
    "    #seed is used to create independence\n",
    "    hashCode = mmh3.hash(str(item),seed, signed = False)\n",
    "    #maxValue of 32-bit unsigned int \n",
    "    maxValue = 4294967295\n",
    "    #normalize it between 0 and length-1\n",
    "    normalize = hashCode/maxValue * (length-1)\n",
    "    #round ensures even splits\n",
    "    #round(3.6) = 4 while int(3.6) = 3 \n",
    "    return round(normalize)"
   ]
  },
  {
   "cell_type": "code",
   "execution_count": 5,
   "metadata": {},
   "outputs": [],
   "source": [
    "#counting an item\n",
    "def count(item):\n",
    "    for i in range(0,noHashFunctions):\n",
    "        index = hashItem(item = item, seed = i)\n",
    "        arrays[i][index] += 1"
   ]
  },
  {
   "cell_type": "code",
   "execution_count": 6,
   "metadata": {},
   "outputs": [
    {
     "name": "stdout",
     "output_type": "stream",
     "text": [
      "[[0, 0, 0, 1, 2, 0, 0], [0, 0, 2, 1, 0, 0, 0], [0, 0, 2, 0, 1, 0, 0], [0, 3, 0, 0, 0, 0, 0], [0, 1, 0, 0, 2, 0, 0]]\n"
     ]
    }
   ],
   "source": [
    "#counting an item\n",
    "item_1 = 2000\n",
    "item_2 = \"countmin\"\n",
    "count(item_1)\n",
    "count(item_2)\n",
    "count(item_2)\n",
    "print(arrays)"
   ]
  },
  {
   "cell_type": "markdown",
   "metadata": {},
   "source": [
    "As shown, array 4 has a count collision."
   ]
  },
  {
   "cell_type": "code",
   "execution_count": 7,
   "metadata": {},
   "outputs": [],
   "source": [
    "#finding the count of an item\n",
    "def getCount(item):\n",
    "    #taking the min reduces the effect of collisions\n",
    "    minCount = float('inf')\n",
    "\n",
    "    for i in range(0,noHashFunctions):\n",
    "        index = hashItem(item = item, seed = i)\n",
    "        count = arrays[i][index]\n",
    "\n",
    "        if count < minCount:\n",
    "            minCount = count\n",
    "    \n",
    "    return minCount"
   ]
  },
  {
   "cell_type": "code",
   "execution_count": 8,
   "metadata": {
    "scrolled": false
   },
   "outputs": [
    {
     "name": "stdout",
     "output_type": "stream",
     "text": [
      "1\n",
      "2\n"
     ]
    }
   ],
   "source": [
    "print(getCount(item_1))\n",
    "print(getCount(item_2))"
   ]
  },
  {
   "cell_type": "markdown",
   "metadata": {},
   "source": [
    "## 2. Class Definition"
   ]
  },
  {
   "cell_type": "markdown",
   "metadata": {},
   "source": [
    "Let $||count||_1$ be the sum of all counts stored in the data structure, i.e. the sum of values in one row of the sketch. The central guarantee CMS provides is then the following:<br>\n",
    "Theorem: With a probability of $1−\\delta$, the error is at most $\\epsilon∗||count||_1$. Concrete values for these error bounds $\\epsilon$ and $\\delta$ can be freely chosen by setting:<br>\n",
    "$w=⌈\\frac{e}{\\epsilon}⌉$ and $d=⌈ln\\frac{1}{\\delta}⌉$"
   ]
  },
  {
   "cell_type": "markdown",
   "metadata": {},
   "source": [
    "### mmh3 version"
   ]
  },
  {
   "cell_type": "code",
   "execution_count": 41,
   "metadata": {},
   "outputs": [],
   "source": [
    "import mmh3\n",
    "import math\n",
    "\n",
    "class CountMinSketch():\n",
    "    def __init__(self,delta = 0.001,epsilon= 0.005):\n",
    "        self.length = math.ceil(math.e/epsilon)\n",
    "        self.noHashFunctions = math.ceil(math.log((1/delta), math.e))\n",
    "        self.arrays = []\n",
    "        # stores already seen hashes to avoid recomputation\n",
    "        self.cache = {}\n",
    "        self.counter = 0\n",
    "\n",
    "        for i in range(0,self.noHashFunctions):\n",
    "            array = [0] * self.length\n",
    "            self.arrays.append(array)\n",
    "            \n",
    "    def hashItem(self,item,seed):\n",
    "        key = str(item) + \" \" + str(seed)\n",
    "        if key in self.cache:\n",
    "            return self.cache[key]\n",
    "        \n",
    "        print(key)\n",
    "        \n",
    "        self.counter += 1\n",
    "        hashCode = mmh3.hash(str(item),seed, signed = False)\n",
    "        maxValue = 4294967295\n",
    "        normalize = hashCode/maxValue * (self.length-1)\n",
    "        self.cache[key] = round(normalize)\n",
    "        return round(normalize)\n",
    "    \n",
    "    def count(self, item):\n",
    "        for i in range(0,self.noHashFunctions):\n",
    "            index = self.hashItem(item = item, seed = i)\n",
    "            self.arrays[i][index] += 1\n",
    "            \n",
    "    def getCount(self,item):\n",
    "        minCount = float('inf')\n",
    "\n",
    "        for i in range(0,self.noHashFunctions):\n",
    "            index = self.hashItem(item = item, seed = i)\n",
    "            count = self.arrays[i][index]\n",
    "\n",
    "            if count < minCount:\n",
    "                minCount = count\n",
    "\n",
    "        return minCount"
   ]
  },
  {
   "cell_type": "code",
   "execution_count": 42,
   "metadata": {},
   "outputs": [
    {
     "name": "stdout",
     "output_type": "stream",
     "text": [
      "544 7\n"
     ]
    }
   ],
   "source": [
    "cms = CountMinSketch()\n",
    "print(cms.length,cms.noHashFunctions)"
   ]
  },
  {
   "cell_type": "code",
   "execution_count": 37,
   "metadata": {},
   "outputs": [],
   "source": [
    "#counting an item\n",
    "item_1 = 2000\n",
    "item_2 = \"countmin\""
   ]
  },
  {
   "cell_type": "code",
   "execution_count": 43,
   "metadata": {},
   "outputs": [],
   "source": [
    "cms.count(item_1)\n",
    "\n",
    "for i in range(0,20):\n",
    "    cms.count(item_2)"
   ]
  },
  {
   "cell_type": "code",
   "execution_count": 44,
   "metadata": {},
   "outputs": [
    {
     "name": "stdout",
     "output_type": "stream",
     "text": [
      "1\n",
      "20\n"
     ]
    }
   ],
   "source": [
    "print(cms.getCount(item_1))\n",
    "print(cms.getCount(item_2))"
   ]
  },
  {
   "cell_type": "markdown",
   "metadata": {},
   "source": [
    "### Rolling polynomial hashing version"
   ]
  },
  {
   "cell_type": "markdown",
   "metadata": {},
   "source": [
    "Assumptions:<br>\n",
    "- All strings lowercase<br>\n",
    "- Numbers(0-9) and Letters(a-z) only "
   ]
  },
  {
   "cell_type": "code",
   "execution_count": 14,
   "metadata": {},
   "outputs": [],
   "source": [
    "import string\n",
    "import random\n",
    "\n",
    "# this will enable us to get different independent mappings for different seeds\n",
    "def randomMap(seed):\n",
    "    mapping = {}\n",
    "    characters =  string.ascii_lowercase + '0123456789'\n",
    "    characters = list(characters)\n",
    "    random.Random(seed).shuffle(characters)\n",
    "\n",
    "    for i,char in enumerate(characters):\n",
    "        mapping[char] = i + 1\n",
    "\n",
    "    return mapping\n",
    "\n",
    "# will return integer value to be used in the polynomial rolling algorithm\n",
    "def generateAsciiMapping(item,seed):\n",
    "    mapping = randomMap(seed)\n",
    "\n",
    "    if not item.isalnum():\n",
    "        raise Exception(\"Not alphanumeric\")\n",
    "        \n",
    "    l = list(item)\n",
    "    n = []\n",
    "    \n",
    "    for char in l:\n",
    "        char = char.lower()\n",
    "        n.append(mapping[char])\n",
    "    \n",
    "    return n"
   ]
  },
  {
   "cell_type": "markdown",
   "metadata": {},
   "source": [
    "We have 36 characters. Therefore we need a prime > 36. To be able to map these characters to the arrays in our count min sketch, we also need a mod which is equal to the size of each array we use "
   ]
  },
  {
   "cell_type": "markdown",
   "metadata": {},
   "source": [
    "hash(s) = $(\\sum_{i= 0} ^ {n-1} s[i].p^i)$mod m"
   ]
  },
  {
   "cell_type": "code",
   "execution_count": 15,
   "metadata": {},
   "outputs": [],
   "source": [
    "# polynomial rolling hash algorithm\n",
    "def generatePolyhash(string,mod,seed):\n",
    "    p_power = 1\n",
    "    prime = 39\n",
    "    string = str(string)\n",
    "    mapToInteger = generateAsciiMapping(string,seed)\n",
    "    value = 0\n",
    "    \n",
    "    for no in mapToInteger:\n",
    "        value = (value + (no * p_power)) % mod\n",
    "        p_power = (p_power * prime) % mod \n",
    "    \n",
    "    return value"
   ]
  },
  {
   "cell_type": "markdown",
   "metadata": {},
   "source": [
    "All this was exported to a file called polyhash.py"
   ]
  },
  {
   "cell_type": "code",
   "execution_count": 16,
   "metadata": {},
   "outputs": [],
   "source": [
    "import polyhash \n",
    "import math\n",
    "\n",
    "class CountMinSketchPoly():\n",
    "    def __init__(self,delta = 0.001,epsilon= 0.005):\n",
    "        self.length = math.ceil(math.e/epsilon)\n",
    "        self.noHashFunctions = math.ceil(math.log((1/delta), math.e))\n",
    "        self.arrays = []\n",
    "        # stores already seen hashes to avoid recomputation\n",
    "        self.cache = {}\n",
    "\n",
    "        for i in range(0,self.noHashFunctions):\n",
    "            array = [0] * self.length\n",
    "            self.arrays.append(array)\n",
    "            \n",
    "    def hashItem(self,item,seed):\n",
    "        key = str(item) + \" \" + str(seed)\n",
    "        if key in self.cache:\n",
    "            return self.cache[key]\n",
    "        \n",
    "        hashCode = polyhash.generatePolyhash(str(item),self.length,seed)\n",
    "        self.cache[key] = hashCode\n",
    "        return hashCode\n",
    "    \n",
    "    def count(self, item):\n",
    "        for i in range(0,self.noHashFunctions):\n",
    "            index = self.hashItem(item = item, seed = i)\n",
    "            self.arrays[i][index] += 1\n",
    "            \n",
    "            \n",
    "    def getCount(self,item):\n",
    "        minCount = float('inf')\n",
    "\n",
    "        for i in range(0,self.noHashFunctions):\n",
    "            index = self.hashItem(item = item,seed = i)\n",
    "            count = self.arrays[i][index]\n",
    "\n",
    "            if count < minCount:\n",
    "                minCount = count\n",
    "\n",
    "        return minCount"
   ]
  },
  {
   "cell_type": "code",
   "execution_count": 17,
   "metadata": {},
   "outputs": [
    {
     "name": "stdout",
     "output_type": "stream",
     "text": [
      "544 7\n"
     ]
    }
   ],
   "source": [
    "cmsPoly = CountMinSketchPoly()\n",
    "print(cmsPoly.length,cmsPoly.noHashFunctions)"
   ]
  },
  {
   "cell_type": "code",
   "execution_count": 18,
   "metadata": {},
   "outputs": [],
   "source": [
    "#counting an item\n",
    "item_1 = 2000\n",
    "item_2 = \"countmin\""
   ]
  },
  {
   "cell_type": "code",
   "execution_count": 19,
   "metadata": {},
   "outputs": [],
   "source": [
    "cmsPoly.count(item_1)\n",
    "\n",
    "for i in range(0,20):\n",
    "    cmsPoly.count(item_2)"
   ]
  },
  {
   "cell_type": "code",
   "execution_count": 20,
   "metadata": {
    "scrolled": true
   },
   "outputs": [
    {
     "name": "stdout",
     "output_type": "stream",
     "text": [
      "1\n",
      "20\n"
     ]
    }
   ],
   "source": [
    "print(cmsPoly.getCount(item_1))\n",
    "print(cmsPoly.getCount(item_2))"
   ]
  },
  {
   "cell_type": "markdown",
   "metadata": {},
   "source": [
    "# 4 . Analysis on real data"
   ]
  },
  {
   "cell_type": "markdown",
   "metadata": {},
   "source": [
    "We will compare our approximation algorithms with the exact frequency counting algorithm on the webdocs dataset, which contains a high number of distinct items and may use a lot of space"
   ]
  },
  {
   "cell_type": "code",
   "execution_count": 21,
   "metadata": {},
   "outputs": [],
   "source": [
    "# EXEMPLARY SOLUTION HOMEWORK 1\n",
    "import sys\n",
    "import os\n",
    "from collections import defaultdict\n",
    "\n",
    "def exact_algorithm(file_path):\n",
    "    \"\"\"Run exact frequent items algorithm\"\"\"\n",
    "    M = defaultdict(int)\n",
    "    dataset_size = 0\n",
    "    output = list()\n",
    "\n",
    "    with open(file_path, \"r\") as dataset:\n",
    "        # Process the transactions as we get them\n",
    "        for transaction in dataset:\n",
    "            dataset_size += 1\n",
    "            # Get the transaction as list of ints\n",
    "            transaction = [\n",
    "                int(item) for item in transaction.split() if item.isnumeric()\n",
    "            ]\n",
    "            # Using defaultdict properties of initializing the value for a\n",
    "            # non-existing key to 0\n",
    "            for item in transaction:\n",
    "                M[item] += 1\n",
    "\n",
    "    for key in M:\n",
    "            output.append((key, M[key]))\n",
    "\n",
    "    return output"
   ]
  },
  {
   "cell_type": "code",
   "execution_count": 46,
   "metadata": {},
   "outputs": [],
   "source": [
    "import sys\n",
    "import os\n",
    "from collections import defaultdict\n",
    "\n",
    "def cms_algorithm(file_path,hashFunction = \"mmh3\"):\n",
    "    dataset_size = 0\n",
    "    output = list()\n",
    "    M = set()\n",
    "    cms = CountMinSketch()\n",
    "    \n",
    "    if hashFunction == \"poly\":\n",
    "        cms = CountMinSketchPoly()\n",
    "\n",
    "    print(\"Using only\" ,cms.length, \"by\", cms.noHashFunctions, \"entries\")\n",
    "    \n",
    "    with open(file_path, \"r\") as dataset:\n",
    "        # Process the transactions as we get them\n",
    "        for transaction in dataset:\n",
    "            dataset_size += 1\n",
    "            # Get the transaction as list of ints\n",
    "            transaction = [\n",
    "                int(item) for item in transaction.split() if item.isnumeric()\n",
    "            ]\n",
    "\n",
    "            for item in transaction:\n",
    "                cms.count(item)\n",
    "                M.add(item)\n",
    "\n",
    "    for key in M:\n",
    "        output.append((key, cms.getCount(key)))\n",
    "    \n",
    "    print(cms.counter)\n",
    "\n",
    "    return output"
   ]
  },
  {
   "cell_type": "code",
   "execution_count": 32,
   "metadata": {},
   "outputs": [],
   "source": [
    "from time import perf_counter \n",
    "file = \"./accidents.dat\""
   ]
  },
  {
   "cell_type": "code",
   "execution_count": 30,
   "metadata": {},
   "outputs": [],
   "source": [
    "start = perf_counter()  \n",
    "output_exact = exact_algorithm(file)\n",
    "end = perf_counter()\n",
    "executionTimeMsExact = (end - start) * 1000.0"
   ]
  },
  {
   "cell_type": "code",
   "execution_count": 47,
   "metadata": {},
   "outputs": [
    {
     "name": "stdout",
     "output_type": "stream",
     "text": [
      "Using only 544 by 7 entries\n",
      "3276\n"
     ]
    }
   ],
   "source": [
    "start = perf_counter()  \n",
    "output_cms_mmh3 = cms_algorithm(file,\"mmh3\")\n",
    "end = perf_counter()\n",
    "executionTimeMsMmh3 = (end - start) * 1000.0"
   ]
  },
  {
   "cell_type": "code",
   "execution_count": 48,
   "metadata": {},
   "outputs": [
    {
     "data": {
      "text/plain": [
       "468"
      ]
     },
     "execution_count": 48,
     "metadata": {},
     "output_type": "execute_result"
    }
   ],
   "source": [
    "len(output_cms_mmh3)"
   ]
  },
  {
   "cell_type": "code",
   "execution_count": 49,
   "metadata": {},
   "outputs": [
    {
     "data": {
      "text/plain": [
       "7.0"
      ]
     },
     "execution_count": 49,
     "metadata": {},
     "output_type": "execute_result"
    }
   ],
   "source": [
    "3276/468"
   ]
  },
  {
   "cell_type": "code",
   "execution_count": null,
   "metadata": {},
   "outputs": [],
   "source": [
    "start = perf_counter()  \n",
    "output_cms_poly = cms_algorithm(file,\"poly\")\n",
    "end = perf_counter()\n",
    "executionTimeMsPoly = (end - start) * 1000.0"
   ]
  },
  {
   "cell_type": "code",
   "execution_count": null,
   "metadata": {},
   "outputs": [],
   "source": [
    "len(output_exact)\n",
    "executionTimeMsExact"
   ]
  },
  {
   "cell_type": "markdown",
   "metadata": {},
   "source": [
    "## Observations"
   ]
  },
  {
   "cell_type": "code",
   "execution_count": 50,
   "metadata": {},
   "outputs": [],
   "source": [
    "def avg_difference(output_1,output_2):\n",
    "    difference = 0\n",
    "    index = 0\n",
    "    length = len(output_1)\n",
    "    \n",
    "    for i in range(0, length):\n",
    "        if output_1[i][0] != output_2[i][0]:\n",
    "            raise Exception(\"Keys do not match\")\n",
    "        else:\n",
    "            difference += abs(output_1[i][1] - output_2[i][1])\n",
    "            \n",
    "    # average difference\n",
    "    return difference/length"
   ]
  },
  {
   "cell_type": "code",
   "execution_count": 52,
   "metadata": {},
   "outputs": [
    {
     "data": {
      "text/plain": [
       "0.14316239316239315"
      ]
     },
     "execution_count": 52,
     "metadata": {},
     "output_type": "execute_result"
    }
   ],
   "source": [
    "avg_difference(output_exact,output_cms_mmh3)"
   ]
  },
  {
   "cell_type": "code",
   "execution_count": 178,
   "metadata": {},
   "outputs": [
    {
     "data": {
      "text/plain": [
       "0.9743589743589743"
      ]
     },
     "execution_count": 178,
     "metadata": {},
     "output_type": "execute_result"
    }
   ],
   "source": [
    "avg_difference(output_exact,output_cms_poly)"
   ]
  },
  {
   "cell_type": "markdown",
   "metadata": {},
   "source": [
    "With a delta = 0.001 and epsilon= 0.005, the count min sketch only used 544 by 7 arrays. The exact algorithm "
   ]
  }
 ],
 "metadata": {
  "kernelspec": {
   "display_name": "Python 3",
   "language": "python",
   "name": "python3"
  },
  "language_info": {
   "codemirror_mode": {
    "name": "ipython",
    "version": 3
   },
   "file_extension": ".py",
   "mimetype": "text/x-python",
   "name": "python",
   "nbconvert_exporter": "python",
   "pygments_lexer": "ipython3",
   "version": "3.8.5"
  }
 },
 "nbformat": 4,
 "nbformat_minor": 4
}
