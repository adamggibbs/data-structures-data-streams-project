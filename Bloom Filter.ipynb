{
 "cells": [
  {
   "cell_type": "code",
   "execution_count": 1,
   "metadata": {},
   "outputs": [
    {
     "name": "stdout",
     "output_type": "stream",
     "text": [
      "Requirement already satisfied: mmh3 in c:\\users\\daniel\\anaconda3\\lib\\site-packages (3.0.0)\n"
     ]
    }
   ],
   "source": [
    "# IMPORTS\n",
    "import sys\n",
    "!{sys.executable} -m pip install mmh3\n",
    "import mmh3\n",
    "from bitarray import bitarray"
   ]
  },
  {
   "cell_type": "code",
   "execution_count": 2,
   "metadata": {},
   "outputs": [],
   "source": [
    "# VARIABLES and DATA STRUCTURES\n",
    "\n",
    "# datset to be used for bloom filter\n",
    "dataset_1 = 'vocabset1.txt'\n",
    "\n",
    "#dataset to be used to test false positives\n",
    "dataset_2 = 'vocabset2.txt'\n",
    "\n",
    "# number of hash functions in bloom filter\n",
    "num_hash= 4\n",
    "\n",
    "# size of bloom filter\n",
    "size = 100000"
   ]
  },
  {
   "cell_type": "code",
   "execution_count": 3,
   "metadata": {},
   "outputs": [],
   "source": [
    "# IMPLEMENTATION OF BLOOM FILTER METHODS\n",
    "class BloomFilter():\n",
    "    \n",
    "    def __init__(self,size,num_hash):\n",
    "        self.size = size\n",
    "        self.num_hash = num_hash\n",
    "        self.array = size*bitarray('0')\n",
    "        \n",
    "        \n",
    "    def add(self,element):\n",
    "        for value in range(self.num_hash):\n",
    "                hash_index = mmh3.hash(element,value)%self.size\n",
    "                self.array[hash_index]=1\n",
    "                \n",
    "    def query(self,element):\n",
    "        for value in range(self.num_hash):\n",
    "                hash_index = mmh3.hash(element,value)%self.size\n",
    "                if not (self.array[hash_index]):\n",
    "                    return False\n",
    "        return True"
   ]
  },
  {
   "cell_type": "code",
   "execution_count": 4,
   "metadata": {},
   "outputs": [],
   "source": [
    "# READ IN DATA AND APPLY FILTER\n",
    "\n",
    "bfilter = BloomFilter(size,num_hash)\n",
    "dict = {}\n",
    "file = open(dataset_1,'r')\n",
    "file_content = file.read().split('\\n')\n",
    "for string in file_content:\n",
    "    dict[string] = file\n",
    "    bfilter.add(string)"
   ]
  },
  {
   "cell_type": "code",
   "execution_count": 5,
   "metadata": {},
   "outputs": [],
   "source": [
    "#READ IN SECOND DATASET TO DETERMINE FALSE POSITIVE RATE\n",
    "\n",
    "fp_count = 0\n",
    "total = 0\n",
    "file2 = open(dataset_2,'r')\n",
    "file2_content = file2.read().split('\\n')\n",
    "for string in file2_content:\n",
    "    if not string in dict.keys():\n",
    "        total+=1\n",
    "        if(bfilter.query(string)): fp_count+=1\n",
    "fp_rate = fp_count/total"
   ]
  },
  {
   "cell_type": "code",
   "execution_count": 6,
   "metadata": {},
   "outputs": [
    {
     "data": {
      "text/plain": [
       "0.0033347676419965577"
      ]
     },
     "execution_count": 6,
     "metadata": {},
     "output_type": "execute_result"
    }
   ],
   "source": [
    "fp_rate"
   ]
  }
 ],
 "metadata": {
  "kernelspec": {
   "display_name": "Python 3",
   "language": "python",
   "name": "python3"
  },
  "language_info": {
   "codemirror_mode": {
    "name": "ipython",
    "version": 3
   },
   "file_extension": ".py",
   "mimetype": "text/x-python",
   "name": "python",
   "nbconvert_exporter": "python",
   "pygments_lexer": "ipython3",
   "version": "3.7.4"
  }
 },
 "nbformat": 4,
 "nbformat_minor": 2
}
