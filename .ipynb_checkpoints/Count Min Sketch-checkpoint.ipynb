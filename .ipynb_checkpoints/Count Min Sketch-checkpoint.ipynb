{
 "cells": [
  {
   "cell_type": "markdown",
   "metadata": {},
   "source": [
    "# Count Min Sketch Implementation"
   ]
  },
  {
   "cell_type": "markdown",
   "metadata": {},
   "source": [
    "Description: <br>\n",
    "Count Min Sketch (12.2.2.2, Pg 403- 405 Aggarwal)"
   ]
  },
  {
   "cell_type": "markdown",
   "metadata": {},
   "source": [
    "## 1. Step by step definition"
   ]
  },
  {
   "cell_type": "code",
   "execution_count": 117,
   "metadata": {},
   "outputs": [],
   "source": [
    "# importing libraries\n",
    "# https://pypi.org/project/mmh3/\n",
    "import mmh3 # can be used to hash strings\n",
    "import random\n",
    "import math"
   ]
  },
  {
   "cell_type": "code",
   "execution_count": 118,
   "metadata": {},
   "outputs": [],
   "source": [
    "# parameters\n",
    "# w\n",
    "length = 7\n",
    "# d\n",
    "noHashFunctions = 5"
   ]
  },
  {
   "cell_type": "code",
   "execution_count": 119,
   "metadata": {},
   "outputs": [
    {
     "name": "stdout",
     "output_type": "stream",
     "text": [
      "[[0, 0, 0, 0, 0, 0, 0], [0, 0, 0, 0, 0, 0, 0], [0, 0, 0, 0, 0, 0, 0], [0, 0, 0, 0, 0, 0, 0], [0, 0, 0, 0, 0, 0, 0]]\n"
     ]
    }
   ],
   "source": [
    "#initialize the |noHashFunctions| arrays with 0\n",
    "arrays = []\n",
    "\n",
    "for i in range(0,noHashFunctions):\n",
    "    array = [0] * length\n",
    "    arrays.append(array)\n",
    "    \n",
    "print(arrays)"
   ]
  },
  {
   "cell_type": "code",
   "execution_count": 120,
   "metadata": {},
   "outputs": [],
   "source": [
    "#we need to define pairwise independent hash functions that map an item from 0 to length - 1\n",
    "def hashItem(item,seed):\n",
    "    #returns a 32-bit unsigned int \n",
    "    #seed is used to create independence\n",
    "    hashCode = mmh3.hash(str(item),seed, signed = False)\n",
    "    #maxValue of 32-bit unsigned int \n",
    "    maxValue = 4294967295\n",
    "    #normalize it between 0 and length-1\n",
    "    normalize = hashCode/maxValue * (length-1)\n",
    "    #round ensures even splits\n",
    "    #round(3.6) = 4 while int(3.6) = 3 \n",
    "    return round(normalize)"
   ]
  },
  {
   "cell_type": "code",
   "execution_count": 121,
   "metadata": {},
   "outputs": [],
   "source": [
    "#counting an item\n",
    "def count(item):\n",
    "    for i in range(0,noHashFunctions):\n",
    "        index = hashItem(item = item, seed = i)\n",
    "        arrays[i][index] += 1"
   ]
  },
  {
   "cell_type": "code",
   "execution_count": 122,
   "metadata": {},
   "outputs": [
    {
     "name": "stdout",
     "output_type": "stream",
     "text": [
      "[[0, 0, 0, 1, 2, 0, 0], [0, 0, 2, 1, 0, 0, 0], [0, 0, 2, 0, 1, 0, 0], [0, 3, 0, 0, 0, 0, 0], [0, 1, 0, 0, 2, 0, 0]]\n"
     ]
    }
   ],
   "source": [
    "#counting an item\n",
    "item_1 = 2000\n",
    "item_2 = \"countmin\"\n",
    "count(item_1)\n",
    "count(item_2)\n",
    "count(item_2)\n",
    "print(arrays)"
   ]
  },
  {
   "cell_type": "markdown",
   "metadata": {},
   "source": [
    "As shown, array 4 has a count collision."
   ]
  },
  {
   "cell_type": "code",
   "execution_count": 123,
   "metadata": {},
   "outputs": [],
   "source": [
    "#finding the count of an item\n",
    "def getCount(item):\n",
    "    #taking the min reduces the effect of collisions\n",
    "    minCount = float('inf')\n",
    "\n",
    "    for i in range(0,noHashFunctions):\n",
    "        index = hashItem(item = item, seed = i)\n",
    "        count = arrays[i][index]\n",
    "\n",
    "        if count < minCount:\n",
    "            minCount = count\n",
    "    \n",
    "    return minCount"
   ]
  },
  {
   "cell_type": "code",
   "execution_count": 124,
   "metadata": {
    "scrolled": false
   },
   "outputs": [
    {
     "name": "stdout",
     "output_type": "stream",
     "text": [
      "1\n",
      "2\n"
     ]
    }
   ],
   "source": [
    "print(getCount(item_1))\n",
    "print(getCount(item_2))"
   ]
  },
  {
   "cell_type": "markdown",
   "metadata": {},
   "source": [
    "## 2. Class Definition"
   ]
  },
  {
   "cell_type": "markdown",
   "metadata": {},
   "source": [
    "Let $||count||_1$ be the sum of all counts stored in the data structure, i.e. the sum of values in one row of the sketch. The central guarantee CMS provides is then the following:<br>\n",
    "Theorem: With a probability of $1−\\delta$, the error is at most $\\epsilon∗||count||_1$. Concrete values for these error bounds $\\epsilon$ and $\\delta$ can be freely chosen by setting:<br>\n",
    "$w=⌈\\frac{e}{\\epsilon}⌉$ and $d=⌈ln\\frac{1}{\\delta}⌉$"
   ]
  },
  {
   "cell_type": "code",
   "execution_count": 125,
   "metadata": {},
   "outputs": [],
   "source": [
    "import mmh3\n",
    "import math\n",
    "\n",
    "class CountMinSketch():\n",
    "    def __init__(self,delta = 0.01,epsilon= 0.05):\n",
    "        self.length = math.ceil(math.e/epsilon)\n",
    "        self.noHashFunctions = math.ceil(math.log((1/delta), math.e))\n",
    "        self.arrays = []\n",
    "\n",
    "        for i in range(0,self.noHashFunctions):\n",
    "            array = [0] * self.length\n",
    "            self.arrays.append(array)\n",
    "            \n",
    "    def hashItem(self,item,seed):\n",
    "        hashCode = mmh3.hash(str(item),seed, signed = False)\n",
    "        maxValue = 4294967295\n",
    "        normalize = hashCode/maxValue * (self.length-1)\n",
    "        return round(normalize)\n",
    "    \n",
    "    def count(self, item):\n",
    "        for i in range(0,self.noHashFunctions):\n",
    "            index = self.hashItem(item = item, seed = i)\n",
    "            self.arrays[i][index] += 1\n",
    "            \n",
    "    def getCount(self,item):\n",
    "        minCount = float('inf')\n",
    "\n",
    "        for i in range(0,self.noHashFunctions):\n",
    "            index = self.hashItem(item = item, seed = i)\n",
    "            count = self.arrays[i][index]\n",
    "\n",
    "            if count < minCount:\n",
    "                minCount = count\n",
    "\n",
    "        return minCount"
   ]
  },
  {
   "cell_type": "code",
   "execution_count": 126,
   "metadata": {},
   "outputs": [
    {
     "name": "stdout",
     "output_type": "stream",
     "text": [
      "55 5\n"
     ]
    }
   ],
   "source": [
    "cms = CountMinSketch()\n",
    "print(cms.length,cms.noHashFunctions)"
   ]
  },
  {
   "cell_type": "code",
   "execution_count": 127,
   "metadata": {},
   "outputs": [],
   "source": [
    "#counting an item\n",
    "item_1 = 2000\n",
    "item_2 = \"countmin\""
   ]
  },
  {
   "cell_type": "code",
   "execution_count": 128,
   "metadata": {},
   "outputs": [],
   "source": [
    "cms.count(item_1)\n",
    "\n",
    "for i in range(0,20):\n",
    "    cms.count(item_2)"
   ]
  },
  {
   "cell_type": "code",
   "execution_count": 129,
   "metadata": {},
   "outputs": [
    {
     "name": "stdout",
     "output_type": "stream",
     "text": [
      "1\n",
      "20\n"
     ]
    }
   ],
   "source": [
    "print(cms.getCount(item_1))\n",
    "print(cms.getCount(item_2))"
   ]
  },
  {
   "cell_type": "markdown",
   "metadata": {},
   "source": [
    "## 3. Alternative hash function - Polynomial hashing"
   ]
  },
  {
   "cell_type": "markdown",
   "metadata": {},
   "source": [
    "Assumptions:<br>\n",
    "- All strings lowercase<br>\n",
    "- Numbers(0-9) and Letters(a-z) only "
   ]
  },
  {
   "cell_type": "code",
   "execution_count": 130,
   "metadata": {},
   "outputs": [],
   "source": [
    "def generateAsciiMapping(string):\n",
    "    if not string.isalnum():\n",
    "        print(string)\n",
    "        raise Exception(\"Not alphanumeric\")\n",
    "        \n",
    "    l = list(string)\n",
    "    n = []\n",
    "    \n",
    "    for char in l:\n",
    "        char = char.lower()\n",
    "        # a - z\n",
    "        if ord(char) > 57:\n",
    "            n.append(ord(char) - ord('a') + 11)\n",
    "        # 0 - 9\n",
    "        else: \n",
    "            n.append(ord(char) - 47)\n",
    "    \n",
    "    return n"
   ]
  },
  {
   "cell_type": "code",
   "execution_count": 131,
   "metadata": {},
   "outputs": [
    {
     "name": "stdout",
     "output_type": "stream",
     "text": [
      "[1]\n",
      "[11]\n",
      "[36]\n"
     ]
    }
   ],
   "source": [
    "print(generateAsciiMapping(\"0\"))\n",
    "print(generateAsciiMapping(\"A\"))\n",
    "print(generateAsciiMapping(\"z\"))"
   ]
  },
  {
   "cell_type": "markdown",
   "metadata": {},
   "source": [
    "We have 36 characters. Therefore we need a prime > 36. To be able to map these characters to our array, we also need a mod which is equal to the size of each array we use "
   ]
  },
  {
   "cell_type": "markdown",
   "metadata": {},
   "source": [
    "hash(s) = $(\\sum_{i= 0} ^ {n-1} s[i].p^i)$mod m"
   ]
  },
  {
   "cell_type": "code",
   "execution_count": 132,
   "metadata": {},
   "outputs": [],
   "source": [
    "def generatePolyhash(string,mod):\n",
    "    p_power = 1\n",
    "    prime = 37\n",
    "    mapToInteger = generateAsciiMapping(string)\n",
    "    value = 0\n",
    "    \n",
    "    for no in mapToInteger:\n",
    "        value = (value + (no * p_power)) % mod\n",
    "        p_power = (p_power * prime) % mod \n",
    "    \n",
    "    return value"
   ]
  },
  {
   "cell_type": "code",
   "execution_count": 133,
   "metadata": {},
   "outputs": [
    {
     "data": {
      "text/plain": [
       "1"
      ]
     },
     "execution_count": 133,
     "metadata": {},
     "output_type": "execute_result"
    }
   ],
   "source": [
    "generatePolyhash(\"66666t\",2)"
   ]
  },
  {
   "cell_type": "code",
   "execution_count": 134,
   "metadata": {},
   "outputs": [],
   "source": [
    "class CountMinSketchPoly():\n",
    "    def __init__(self,delta = 0.01,epsilon= 0.05):\n",
    "        self.length = math.ceil(math.e/epsilon)\n",
    "        self.noHashFunctions = math.ceil(math.log((1/delta), math.e))\n",
    "        self.arrays = []\n",
    "\n",
    "        for i in range(0,self.noHashFunctions):\n",
    "            array = [0] * self.length\n",
    "            self.arrays.append(array)\n",
    "            \n",
    "    def hashItem(self,item):\n",
    "        hashCode = generatePolyhash(str(item), self.length)\n",
    "        return hashCode\n",
    "    \n",
    "    def count(self, item):\n",
    "        for i in range(0,self.noHashFunctions):\n",
    "            index = self.hashItem(item = item)\n",
    "            self.arrays[i][index] += 1\n",
    "            \n",
    "    def getCount(self,item):\n",
    "        minCount = float('inf')\n",
    "\n",
    "        for i in range(0,self.noHashFunctions):\n",
    "            index = self.hashItem(item = item)\n",
    "            count = self.arrays[i][index]\n",
    "\n",
    "            if count < minCount:\n",
    "                minCount = count\n",
    "\n",
    "        return minCount"
   ]
  },
  {
   "cell_type": "code",
   "execution_count": 135,
   "metadata": {},
   "outputs": [
    {
     "name": "stdout",
     "output_type": "stream",
     "text": [
      "55 5\n"
     ]
    }
   ],
   "source": [
    "cmsPoly = CountMinSketchPoly()\n",
    "print(cmsPoly.length,cmsPoly.noHashFunctions)"
   ]
  },
  {
   "cell_type": "code",
   "execution_count": 136,
   "metadata": {},
   "outputs": [],
   "source": [
    "#counting an item\n",
    "item_1 = 2000\n",
    "item_2 = \"countmin\""
   ]
  },
  {
   "cell_type": "code",
   "execution_count": 137,
   "metadata": {},
   "outputs": [],
   "source": [
    "cmsPoly.count(item_1)\n",
    "\n",
    "for i in range(0,20):\n",
    "    cmsPoly.count(item_2)"
   ]
  },
  {
   "cell_type": "code",
   "execution_count": 138,
   "metadata": {},
   "outputs": [
    {
     "name": "stdout",
     "output_type": "stream",
     "text": [
      "1\n",
      "20\n"
     ]
    }
   ],
   "source": [
    "print(cmsPoly.getCount(item_1))\n",
    "print(cmsPoly.getCount(item_2))"
   ]
  }
 ],
 "metadata": {
  "kernelspec": {
   "display_name": "Python 3",
   "language": "python",
   "name": "python3"
  },
  "language_info": {
   "codemirror_mode": {
    "name": "ipython",
    "version": 3
   },
   "file_extension": ".py",
   "mimetype": "text/x-python",
   "name": "python",
   "nbconvert_exporter": "python",
   "pygments_lexer": "ipython3",
   "version": "3.8.5"
  }
 },
 "nbformat": 4,
 "nbformat_minor": 4
}
