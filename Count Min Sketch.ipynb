{
 "cells": [
  {
   "cell_type": "markdown",
   "metadata": {},
   "source": [
    "# Count Min Sketch Implementation"
   ]
  },
  {
   "cell_type": "markdown",
   "metadata": {},
   "source": [
    "Description: <br>\n",
    "Count Min Sketch (12.2.2.2, Pg 403- 405 Aggarwal)"
   ]
  },
  {
   "cell_type": "code",
   "execution_count": 57,
   "metadata": {},
   "outputs": [],
   "source": [
    "# importing libraries\n",
    "# https://pypi.org/project/mmh3/\n",
    "import mmh3 # can be used to hash strings\n",
    "import random"
   ]
  },
  {
   "cell_type": "code",
   "execution_count": 58,
   "metadata": {},
   "outputs": [],
   "source": [
    "# parameters\n",
    "# length of each array\n",
    "length = 7\n",
    "# w\n",
    "noHashFunctions = 5"
   ]
  },
  {
   "cell_type": "code",
   "execution_count": 59,
   "metadata": {},
   "outputs": [
    {
     "name": "stdout",
     "output_type": "stream",
     "text": [
      "[[0, 0, 0, 0, 0, 0, 0], [0, 0, 0, 0, 0, 0, 0], [0, 0, 0, 0, 0, 0, 0], [0, 0, 0, 0, 0, 0, 0], [0, 0, 0, 0, 0, 0, 0]]\n"
     ]
    }
   ],
   "source": [
    "#initialize the |noHashFunctions| arrays with 0\n",
    "arrays = []\n",
    "\n",
    "for i in range(0,noHashFunctions):\n",
    "    array = [0] * length\n",
    "    arrays.append(array)\n",
    "    \n",
    "print(arrays)"
   ]
  },
  {
   "cell_type": "code",
   "execution_count": 60,
   "metadata": {},
   "outputs": [],
   "source": [
    "#we need to define pairwise independent hash functions that map an item from 0 to length - 1\n",
    "def hashItem(item,seed):\n",
    "    #returns a 32-bit unsigned int \n",
    "    #seed is used to create independence\n",
    "    hashCode = mmh3.hash(str(item),seed, signed = False)\n",
    "    #maxValue of 32-bit unsigned int \n",
    "    maxValue = 4294967295\n",
    "    #normalize it between 0 and length-1\n",
    "    normalize = hashCode/maxValue * (length-1)\n",
    "    #round ensure even splits\n",
    "    #round(3.6) = 4 while int(3.6) = 3\n",
    "    return round(normalize)"
   ]
  },
  {
   "cell_type": "code",
   "execution_count": 61,
   "metadata": {},
   "outputs": [],
   "source": [
    "#counting an item\n",
    "def count(item):\n",
    "    for i in range(0,noHashFunctions):\n",
    "        index = hashItem(item = item, seed = i)\n",
    "        arrays[i][index] += 1"
   ]
  },
  {
   "cell_type": "code",
   "execution_count": 62,
   "metadata": {},
   "outputs": [
    {
     "name": "stdout",
     "output_type": "stream",
     "text": [
      "[[0, 0, 0, 1, 2, 0, 0], [0, 0, 2, 1, 0, 0, 0], [0, 0, 2, 0, 1, 0, 0], [0, 3, 0, 0, 0, 0, 0], [0, 1, 0, 0, 2, 0, 0]]\n"
     ]
    }
   ],
   "source": [
    "#counting an item\n",
    "item_1 = 2000\n",
    "item_2 = \"countmin\"\n",
    "count(item_1)\n",
    "count(item_2)\n",
    "count(item_2)\n",
    "print(arrays)"
   ]
  },
  {
   "cell_type": "code",
   "execution_count": 63,
   "metadata": {},
   "outputs": [],
   "source": [
    "#finding the count of an item\n",
    "def getCount(item):\n",
    "    #taking the min eliminates the effect of collisions\n",
    "    minCount = float('inf')\n",
    "\n",
    "    for i in range(0,noHashFunctions):\n",
    "        index = hashItem(item = item, seed = i)\n",
    "        count = arrays[i][index]\n",
    "\n",
    "        if count < minCount:\n",
    "            minCount = count\n",
    "    \n",
    "    return minCount"
   ]
  },
  {
   "cell_type": "code",
   "execution_count": 64,
   "metadata": {},
   "outputs": [
    {
     "name": "stdout",
     "output_type": "stream",
     "text": [
      "1\n",
      "2\n"
     ]
    }
   ],
   "source": [
    "print(getCount(item_1))\n",
    "print(getCount(item_2))"
   ]
  }
 ],
 "metadata": {
  "kernelspec": {
   "display_name": "Python 3",
   "language": "python",
   "name": "python3"
  },
  "language_info": {
   "codemirror_mode": {
    "name": "ipython",
    "version": 3
   },
   "file_extension": ".py",
   "mimetype": "text/x-python",
   "name": "python",
   "nbconvert_exporter": "python",
   "pygments_lexer": "ipython3",
   "version": "3.8.5"
  }
 },
 "nbformat": 4,
 "nbformat_minor": 4
}
