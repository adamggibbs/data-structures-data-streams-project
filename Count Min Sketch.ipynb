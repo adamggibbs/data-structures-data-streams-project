{
 "cells": [
  {
   "cell_type": "markdown",
   "metadata": {},
   "source": [
    "# Count Min Sketch Implementation"
   ]
  },
  {
   "cell_type": "markdown",
   "metadata": {},
   "source": [
    "Description: <br>\n",
    "Count Min Sketch (12.2.2.2, Pg 403- 405 Aggarwal)"
   ]
  },
  {
   "cell_type": "markdown",
   "metadata": {},
   "source": [
    "## 1. Step by step definition"
   ]
  },
  {
   "cell_type": "code",
   "execution_count": 154,
   "metadata": {},
   "outputs": [],
   "source": [
    "# importing libraries\n",
    "# https://pypi.org/project/mmh3/\n",
    "import mmh3 # can be used to hash strings\n",
    "import random\n",
    "import math"
   ]
  },
  {
   "cell_type": "code",
   "execution_count": 155,
   "metadata": {},
   "outputs": [],
   "source": [
    "# parameters\n",
    "# w\n",
    "length = 7\n",
    "# d\n",
    "noHashFunctions = 5"
   ]
  },
  {
   "cell_type": "code",
   "execution_count": 156,
   "metadata": {},
   "outputs": [
    {
     "name": "stdout",
     "output_type": "stream",
     "text": [
      "[[0, 0, 0, 0, 0, 0, 0], [0, 0, 0, 0, 0, 0, 0], [0, 0, 0, 0, 0, 0, 0], [0, 0, 0, 0, 0, 0, 0], [0, 0, 0, 0, 0, 0, 0]]\n"
     ]
    }
   ],
   "source": [
    "#initialize the |noHashFunctions| arrays with 0\n",
    "arrays = []\n",
    "\n",
    "for i in range(0,noHashFunctions):\n",
    "    array = [0] * length\n",
    "    arrays.append(array)\n",
    "    \n",
    "print(arrays)"
   ]
  },
  {
   "cell_type": "code",
   "execution_count": 157,
   "metadata": {},
   "outputs": [],
   "source": [
    "#we need to define pairwise independent hash functions that map an item from 0 to length - 1\n",
    "def hashItem(item,seed):\n",
    "    #returns a 32-bit unsigned int \n",
    "    #seed is used to create independence\n",
    "    hashCode = mmh3.hash(str(item),seed, signed = False)\n",
    "    #maxValue of 32-bit unsigned int \n",
    "    maxValue = 4294967295\n",
    "    #normalize it between 0 and length-1\n",
    "    normalize = hashCode/maxValue * (length-1)\n",
    "    #round ensures even splits\n",
    "    #round(3.6) = 4 while int(3.6) = 3 \n",
    "    return round(normalize)"
   ]
  },
  {
   "cell_type": "code",
   "execution_count": 158,
   "metadata": {},
   "outputs": [],
   "source": [
    "#counting an item\n",
    "def count(item):\n",
    "    for i in range(0,noHashFunctions):\n",
    "        index = hashItem(item = item, seed = i)\n",
    "        arrays[i][index] += 1"
   ]
  },
  {
   "cell_type": "code",
   "execution_count": 159,
   "metadata": {},
   "outputs": [
    {
     "name": "stdout",
     "output_type": "stream",
     "text": [
      "[[0, 0, 0, 1, 2, 0, 0], [0, 0, 2, 1, 0, 0, 0], [0, 0, 2, 0, 1, 0, 0], [0, 3, 0, 0, 0, 0, 0], [0, 1, 0, 0, 2, 0, 0]]\n"
     ]
    }
   ],
   "source": [
    "#counting an item\n",
    "item_1 = 2000\n",
    "item_2 = \"countmin\"\n",
    "count(item_1)\n",
    "count(item_2)\n",
    "count(item_2)\n",
    "print(arrays)"
   ]
  },
  {
   "cell_type": "markdown",
   "metadata": {},
   "source": [
    "As shown, array 4 has a count collision."
   ]
  },
  {
   "cell_type": "code",
   "execution_count": 160,
   "metadata": {},
   "outputs": [],
   "source": [
    "#finding the count of an item\n",
    "def getCount(item):\n",
    "    #taking the min reduces the effect of collisions\n",
    "    minCount = float('inf')\n",
    "\n",
    "    for i in range(0,noHashFunctions):\n",
    "        index = hashItem(item = item, seed = i)\n",
    "        count = arrays[i][index]\n",
    "\n",
    "        if count < minCount:\n",
    "            minCount = count\n",
    "    \n",
    "    return minCount"
   ]
  },
  {
   "cell_type": "code",
   "execution_count": 161,
   "metadata": {
    "scrolled": false
   },
   "outputs": [
    {
     "name": "stdout",
     "output_type": "stream",
     "text": [
      "1\n",
      "2\n"
     ]
    }
   ],
   "source": [
    "print(getCount(item_1))\n",
    "print(getCount(item_2))"
   ]
  },
  {
   "cell_type": "markdown",
   "metadata": {},
   "source": [
    "## 2. Class Definition"
   ]
  },
  {
   "cell_type": "markdown",
   "metadata": {},
   "source": [
    "Let $||count||_1$ be the sum of all counts stored in the data structure, i.e. the sum of values in one row of the sketch. The central guarantee CMS provides is then the following:<br>\n",
    "Theorem: With a probability of $1−\\delta$, the error is at most $\\epsilon∗||count||_1$. Concrete values for these error bounds $\\epsilon$ and $\\delta$ can be freely chosen by setting:<br>\n",
    "$w=⌈\\frac{e}{\\epsilon}⌉$ and $d=⌈ln\\frac{1}{\\delta}⌉$"
   ]
  },
  {
   "cell_type": "code",
   "execution_count": 162,
   "metadata": {},
   "outputs": [],
   "source": [
    "import mmh3\n",
    "import math\n",
    "\n",
    "class CountMinSketch():\n",
    "    def __init__(self,delta = 0.01,epsilon= 0.05):\n",
    "        self.length = math.ceil(math.e/epsilon)\n",
    "        self.noHashFunctions = math.ceil(math.log((1/delta), math.e))\n",
    "        self.arrays = []\n",
    "\n",
    "        for i in range(0,self.noHashFunctions):\n",
    "            array = [0] * self.length\n",
    "            self.arrays.append(array)\n",
    "            \n",
    "    def hashItem(self,item,seed):\n",
    "        hashCode = mmh3.hash(str(item),seed, signed = False)\n",
    "        maxValue = 4294967295\n",
    "        normalize = hashCode/maxValue * (self.length-1)\n",
    "        return round(normalize)\n",
    "    \n",
    "    def count(self, item):\n",
    "        for i in range(0,self.noHashFunctions):\n",
    "            index = self.hashItem(item = item, seed = i)\n",
    "            self.arrays[i][index] += 1\n",
    "            \n",
    "    def getCount(self,item):\n",
    "        minCount = float('inf')\n",
    "\n",
    "        for i in range(0,self.noHashFunctions):\n",
    "            index = self.hashItem(item = item, seed = i)\n",
    "            count = self.arrays[i][index]\n",
    "\n",
    "            if count < minCount:\n",
    "                minCount = count\n",
    "\n",
    "        return minCount"
   ]
  },
  {
   "cell_type": "code",
   "execution_count": 163,
   "metadata": {},
   "outputs": [
    {
     "name": "stdout",
     "output_type": "stream",
     "text": [
      "55 5\n"
     ]
    }
   ],
   "source": [
    "cms = CountMinSketch()\n",
    "print(cms.length,cms.noHashFunctions)"
   ]
  },
  {
   "cell_type": "code",
   "execution_count": 164,
   "metadata": {},
   "outputs": [],
   "source": [
    "#counting an item\n",
    "item_1 = 2000\n",
    "item_2 = \"countmin\""
   ]
  },
  {
   "cell_type": "code",
   "execution_count": 165,
   "metadata": {},
   "outputs": [],
   "source": [
    "cms.count(item_1)\n",
    "cms.count(item_2)\n",
    "cms.count(item_2)"
   ]
  },
  {
   "cell_type": "code",
   "execution_count": 166,
   "metadata": {},
   "outputs": [
    {
     "name": "stdout",
     "output_type": "stream",
     "text": [
      "1\n",
      "2\n"
     ]
    }
   ],
   "source": [
    "print(cms.getCount(item_1))\n",
    "print(cms.getCount(item_2))"
   ]
  }
 ],
 "metadata": {
  "kernelspec": {
   "display_name": "Python 3",
   "language": "python",
   "name": "python3"
  },
  "language_info": {
   "codemirror_mode": {
    "name": "ipython",
    "version": 3
   },
   "file_extension": ".py",
   "mimetype": "text/x-python",
   "name": "python",
   "nbconvert_exporter": "python",
   "pygments_lexer": "ipython3",
   "version": "3.8.5"
  }
 },
 "nbformat": 4,
 "nbformat_minor": 4
}
