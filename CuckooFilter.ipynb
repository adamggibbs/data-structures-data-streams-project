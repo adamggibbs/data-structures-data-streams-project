{
 "metadata": {
  "language_info": {
   "codemirror_mode": {
    "name": "ipython",
    "version": 3
   },
   "file_extension": ".py",
   "mimetype": "text/x-python",
   "name": "python",
   "nbconvert_exporter": "python",
   "pygments_lexer": "ipython3",
   "version": "3.8.5-final"
  },
  "orig_nbformat": 2,
  "kernelspec": {
   "name": "python3",
   "display_name": "Python 3",
   "language": "python"
  }
 },
 "nbformat": 4,
 "nbformat_minor": 2,
 "cells": [
  {
   "source": [
    "## <u>Cuckoo Filter</u>\n",
    "### Maggie Drew & Adam Gibbs\n",
    "\n",
    "Implementation of Cuckoo Filter for estimating set membership on data streams. Implementation psuedocode from the following paper: https://www.cs.cmu.edu/~dga/papers/cuckoo-conext2014.pdf. This notebook contains the following:\n",
    "\n",
    "1. Imports used in the notebook\n",
    "2. All global variables and python data structures (lists, dictionaries, etc.) used\n",
    "3. Code for Cuckoo Filter functions\n",
    "4. Cuckoo filter test on simulated data stream\n",
    "5. Results\n",
    "6. Analysis of Results "
   ],
   "cell_type": "markdown",
   "metadata": {}
  },
  {
   "cell_type": "code",
   "execution_count": null,
   "metadata": {},
   "outputs": [],
   "source": [
    "# IMPORTS\n",
    "import matplotlib as plt\n",
    "import numpy as np \n",
    "import gzip\n",
    "import hashlib\n",
    "import random\n"
   ]
  },
  {
   "cell_type": "code",
   "execution_count": null,
   "metadata": {},
   "outputs": [],
   "source": [
    "# VARIABLES and DATA STRUCTURES\n",
    "\n",
    "# datset to be used as data stream\n",
    "dataset = './input.txt'\n",
    "\n",
    "# number of buckets in hash table\n",
    "# make this prime!\n",
    "bucket_size = 29\n",
    "\n",
    "# numpy array of buckets for elements to hash into\n",
    "buckets = list()\n",
    "for i in range(0,bucket_size):\n",
    "   buckets.append(0)\n"
   ]
  },
  {
   "cell_type": "code",
   "execution_count": null,
   "metadata": {},
   "outputs": [],
   "source": [
    "# HELPER METHODS\n",
    "\n",
    "def create_fingerprint(x):\n",
    "    return x\n",
    "\n",
    "def hash_func(x):\n",
    "    return x % bucket_size\n",
    "\n",
    "def relocate(f, bucket):\n",
    "\n",
    "    count = 0\n",
    "    while count < len(buckets):\n",
    "        h1 = hash_func(f)\n",
    "        h2 = (h1 + f)% bucket_size\n",
    "        if h1 == bucket:\n",
    "            new_bucket = h2\n",
    "        else:\n",
    "            new_bucket = h1\n",
    "\n",
    "        if buckets[new_bucket] == 0: \n",
    "            buckets[new_bucket] = f\n",
    "            return True\n",
    "        else:\n",
    "            old = buckets[new_bucket]\n",
    "            buckets[new_bucket] = f\n",
    "            f = old\n",
    "        count += 1\n",
    "    \n",
    "    return False\n",
    "\n",
    "    \n"
   ]
  },
  {
   "cell_type": "code",
   "execution_count": null,
   "metadata": {},
   "outputs": [],
   "source": [
    "# IMPLEMENTATION OF CUCKOO FILTER METHODS\n",
    "def insert(x):\n",
    "    f = create_fingerprint(x)\n",
    "\n",
    "    h1 = hash_func(x)\n",
    "    h2 = (h1 + f) % bucket_size # might have to switch from + operation\n",
    "\n",
    "    if buckets[h1] == 0 or buckets[h1] == f:\n",
    "        buckets[h1] = f\n",
    "        return True\n",
    "    elif buckets[h2] == 0 or buckets[h2] == f:\n",
    "        buckets[h2] = f\n",
    "        return True\n",
    "    else:\n",
    "        rand_num = random.random()\n",
    "        if rand_num < 0.5:\n",
    "            old = buckets[h1]\n",
    "            buckets[h1] = f\n",
    "            \n",
    "            added = relocate(old, h1) # need to change this to keep track of buckets\n",
    "            return added\n",
    "        else:\n",
    "            old = buckets[h2]\n",
    "            buckets[h2] = f\n",
    "            added = relocate(old, h2)\n",
    "            return added\n",
    "\n",
    "def lookup(x):\n",
    "    f = create_fingerprint(x)\n",
    "    h1 = hash_func(x)\n",
    "    h2 = (h1 + f) % bucket_size\n",
    "\n",
    "    if buckets[h1] == f or buckets[h2] == f:\n",
    "        return True\n",
    "    else:\n",
    "        return False\n",
    "\n",
    "def delete(x):\n",
    "    f = create_fingerprint(x)\n",
    "    h1 = hash_func(x)\n",
    "    h2 = (h1 + f) % bucket_size\n",
    "\n",
    "    if buckets[h1] == f:\n",
    "        buckets[h1] = 0\n",
    "        return True\n",
    "    elif buckets[h2] == f:\n",
    "        buckets[h2] = 0\n",
    "        return True\n",
    "    \n",
    "    return False\n"
   ]
  },
  {
   "cell_type": "code",
   "execution_count": null,
   "metadata": {
    "tags": []
   },
   "outputs": [],
   "source": [
    "# READ IN DATA AND APPLY FILTER\n",
    "\n",
    "with open(dataset, 'rt') as data_stream:\n",
    "    for line in data_stream:\n",
    "        for element in line.split():\n",
    "            insert(int(element))\n",
    "            print(buckets)"
   ]
  },
  {
   "cell_type": "code",
   "execution_count": null,
   "metadata": {},
   "outputs": [],
   "source": [
    "with open(dataset, 'rt') as data_stream:\n",
    "    for line in data_stream:\n",
    "        for element in line.split():\n",
    "            print(lookup(int(element)))"
   ]
  },
  {
   "cell_type": "code",
   "execution_count": null,
   "metadata": {},
   "outputs": [],
   "source": []
  }
 ]
}