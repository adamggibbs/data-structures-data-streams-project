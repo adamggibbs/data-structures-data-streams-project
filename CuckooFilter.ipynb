{
 "metadata": {
  "language_info": {
   "codemirror_mode": {
    "name": "ipython",
    "version": 3
   },
   "file_extension": ".py",
   "mimetype": "text/x-python",
   "name": "python",
   "nbconvert_exporter": "python",
   "pygments_lexer": "ipython3",
   "version": "3.8.5-final"
  },
  "orig_nbformat": 2,
  "kernelspec": {
   "name": "python3",
   "display_name": "Python 3",
   "language": "python"
  }
 },
 "nbformat": 4,
 "nbformat_minor": 2,
 "cells": [
  {
   "source": [
    "## <u>Cuckoo Filter</u>\n",
    "### Maggie Drew & Adam Gibbs\n",
    "\n",
    "Implementation of Cuckoo Filter for estimating set membership on data streams. Implementation psuedocode from the following paper: https://www.cs.cmu.edu/~dga/papers/cuckoo-conext2014.pdf. This notebook contains the following:\n",
    "\n",
    "1. Imports used in the notebook\n",
    "2. All global variables and python data structures (lists, dictionaries, etc.) used\n",
    "3. Code for Cuckoo Filter functions\n",
    "4. Cuckoo filter test on simulated data stream\n",
    "5. Results\n",
    "6. Analysis of Results "
   ],
   "cell_type": "markdown",
   "metadata": {}
  },
  {
   "cell_type": "code",
   "execution_count": 7,
   "metadata": {},
   "outputs": [],
   "source": [
    "# IMPORTS\n",
    "import matplotlib as plt\n",
    "import numpy as np \n",
    "import gzip\n"
   ]
  },
  {
   "cell_type": "code",
   "execution_count": null,
   "metadata": {},
   "outputs": [],
   "source": [
    "# VARIABLES and DATA STRUCTURES\n",
    "dataset = './datasets/accidents.dat.gz'"
   ]
  },
  {
   "cell_type": "code",
   "execution_count": null,
   "metadata": {},
   "outputs": [],
   "source": [
    "# IMPLEMENTATION OF CUCKOO FILTER METHODS"
   ]
  },
  {
   "cell_type": "code",
   "execution_count": null,
   "metadata": {
    "tags": [
     "outputPrepend"
    ]
   },
   "outputs": [],
   "source": [
    "# READ IN DATA AND APPLY FILTER\n",
    "\n",
    "with gzip.open(dataset, 'rt') as data_stream:\n",
    "    for line in data_stream:\n",
    "        for element in line.split():\n",
    "            # apply cuckoo filter"
   ]
  },
  {
   "cell_type": "code",
   "execution_count": null,
   "metadata": {},
   "outputs": [],
   "source": [
    "# ANALYSIS OF RESULTS"
   ]
  }
 ]
}