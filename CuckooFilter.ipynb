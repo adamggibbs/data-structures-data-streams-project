{
 "metadata": {
  "language_info": {
   "codemirror_mode": {
    "name": "ipython",
    "version": 3
   },
   "file_extension": ".py",
   "mimetype": "text/x-python",
   "name": "python",
   "nbconvert_exporter": "python",
   "pygments_lexer": "ipython3",
   "version": "3.8.5-final"
  },
  "orig_nbformat": 2,
  "kernelspec": {
   "name": "python3",
   "display_name": "Python 3",
   "language": "python"
  }
 },
 "nbformat": 4,
 "nbformat_minor": 2,
 "cells": [
  {
   "source": [
    "## <u>Cuckoo Filter</u>\n",
    "### Maggie Drew & Adam Gibbs\n",
    "\n",
    "Implementation of Cuckoo Filter for estimating set membership on data streams. Implementation psuedocode from the following paper: https://www.cs.cmu.edu/~dga/papers/cuckoo-conext2014.pdf. This notebook contains the following:\n",
    "\n",
    "1. Imports used in the notebook\n",
    "2. All global variables and python data structures (lists, dictionaries, etc.) used\n",
    "3. Code for Cuckoo Filter functions\n",
    "4. Cuckoo filter test on simulated data stream\n",
    "5. Results\n",
    "6. Analysis of Results "
   ],
   "cell_type": "markdown",
   "metadata": {}
  },
  {
   "cell_type": "code",
   "execution_count": 9,
   "metadata": {},
   "outputs": [],
   "source": [
    "# IMPORTS\n",
    "import matplotlib as plt\n",
    "import numpy as np \n",
    "import pandas as pd\n",
    "import gzip\n",
    "import hashlib\n",
    "import random\n"
   ]
  },
  {
   "cell_type": "code",
   "execution_count": 10,
   "metadata": {},
   "outputs": [],
   "source": [
    "# VARIABLES and DATA STRUCTURES\n",
    "\n",
    "# datset to be used as data stream\n",
    "dataset = './input.txt'\n",
    "\n",
    "# number of buckets in hash table\n",
    "# make this prime!\n",
    "bucket_size = 29\n",
    "\n",
    "# numpy array of buckets for elements to hash into\n",
    "# buckets = []\n",
    "# for i in range(0,bucket_size):\n",
    "#    buckets.append(np.NaN)\n",
    "# print(buckets)\n"
   ]
  },
  {
   "cell_type": "code",
   "execution_count": 11,
   "metadata": {},
   "outputs": [],
   "source": [
    "class CuckooFilter():\n",
    "\n",
    "    # CONSTRUCTOR\n",
    "    def __init__(self, bucket_size):\n",
    "        self.bucket_size = bucket_size\n",
    "        self.buckets = [np.NaN for num in range(0, bucket_size)]\n",
    "    \n",
    "    # HELPER METHODS\n",
    "    def create_fingerprint(self, x):\n",
    "        return x\n",
    "\n",
    "    def hash_func(self, x):\n",
    "        return x % self.bucket_size\n",
    "\n",
    "    def relocate(self, f, bucket):\n",
    "\n",
    "        count = 0\n",
    "        while count < len(self.buckets):\n",
    "            h1 = self.hash_func(f)\n",
    "            h2 = (h1 + f)% self.bucket_size\n",
    "            if h1 == bucket:\n",
    "                new_bucket = h2\n",
    "            else:\n",
    "                new_bucket = h1\n",
    "\n",
    "            if self.buckets[new_bucket] == np.NaN: \n",
    "                self.buckets[new_bucket] = f\n",
    "                return True\n",
    "            else:\n",
    "                old = self.buckets[new_bucket]\n",
    "                self.buckets[new_bucket] = f\n",
    "                f = old\n",
    "            count += 1\n",
    "        \n",
    "        return False\n",
    "    \n",
    "    # CORE METHODS\n",
    "    def insert(self, x):\n",
    "        f = self.create_fingerprint(x)\n",
    "\n",
    "        h1 = self.hash_func(x)\n",
    "        h2 = (h1 + f) % self.bucket_size # might have to switch from + operation\n",
    "\n",
    "        if pd.isnull(self.buckets[h1]) or self.buckets[h1] == f:\n",
    "            \n",
    "            self.buckets[h1] = f\n",
    "            return True\n",
    "        elif pd.isnull(self.buckets[h2]) or self.buckets[h2] == f:\n",
    "            self.buckets[h2] = f\n",
    "            return True\n",
    "        else:\n",
    "            rand_num = random.random()\n",
    "            if rand_num < 0.5:\n",
    "                old = self.buckets[h1]\n",
    "                self.buckets[h1] = f\n",
    "                added = self.relocate(old, h1) # need to change this to keep track of buckets\n",
    "                return added\n",
    "            else:\n",
    "                old = self.buckets[h2]\n",
    "                self.buckets[h2] = f\n",
    "                added = self.relocate(old, h2)\n",
    "                return added\n",
    "\n",
    "    def lookup(self, x):\n",
    "        f = self.create_fingerprint(x)\n",
    "        h1 = self.hash_func(x)\n",
    "        h2 = (h1 + f) % self.bucket_size\n",
    "\n",
    "        if self.buckets[h1] == f or self.buckets[h2] == f:\n",
    "            return True\n",
    "        else:\n",
    "            return False\n",
    "\n",
    "    def delete(self, x):\n",
    "        f = self.create_fingerprint(x)\n",
    "        h1 = self.hash_func(x)\n",
    "        h2 = (h1 + f) % self.bucket_size\n",
    "\n",
    "        if self.buckets[h1] == f:\n",
    "            self.buckets[h1] = np.NaN\n",
    "            return True\n",
    "        elif self.buckets[h2] == f:\n",
    "            self.buckets[h2] = np.NaN\n",
    "            return True\n",
    "        \n",
    "        return False\n"
   ]
  },
  {
   "cell_type": "code",
   "execution_count": 13,
   "metadata": {
    "tags": []
   },
   "outputs": [
    {
     "output_type": "stream",
     "name": "stdout",
     "text": [
      "[nan, nan, nan, nan, 4, 5, nan, nan, 33, 9, nan, 11, nan, 13, nan, nan, nan, 46, nan, 77, nan, nan, nan, nan, nan, nan, 42, nan, nan]\n"
     ]
    }
   ],
   "source": [
    "# READ IN DATA AND APPLY FILTER\n",
    "\n",
    "cf = CuckooFilter(bucket_size)\n",
    "\n",
    "with open(dataset, 'rt') as data_stream:\n",
    "    for line in data_stream:\n",
    "        for element in line.split():\n",
    "            cf.insert(int(element))\n",
    "print(cf.buckets)"
   ]
  },
  {
   "cell_type": "code",
   "execution_count": 15,
   "metadata": {},
   "outputs": [
    {
     "output_type": "stream",
     "name": "stdout",
     "text": [
      "True\nTrue\nTrue\nTrue\nTrue\nTrue\nTrue\nTrue\nTrue\nTrue\nTrue\n"
     ]
    }
   ],
   "source": [
    "with open(dataset, 'rt') as data_stream:\n",
    "    for line in data_stream:\n",
    "        for element in line.split():\n",
    "            print(cf.lookup(int(element)))"
   ]
  },
  {
   "cell_type": "code",
   "execution_count": null,
   "metadata": {},
   "outputs": [],
   "source": []
  }
 ]
}